{
 "cells": [
  {
   "cell_type": "code",
   "execution_count": 4,
   "metadata": {},
   "outputs": [],
   "source": [
    "import pandas as pd\n",
    "import random\n",
    "import pickle"
   ]
  },
  {
   "cell_type": "code",
   "execution_count": 5,
   "metadata": {},
   "outputs": [],
   "source": [
    "# Demand configuration\n",
    "num_requests = 200\n",
    "num_weeks = 3\n",
    "req_per_week = num_requests // num_weeks\n",
    "\n",
    "# Precalculated values from the capacity proportion\n",
    "probabilities = {\n",
    "    (1, 4): 0.03,\n",
    "    (1, 5): 0.09,\n",
    "    (1, 6): 0.06,\n",
    "    (1, 7): 0.01,\n",
    "    (1, 8): 0.18,\n",
    "    (1, 9): 0.15,\n",
    "    (1, 10): 0.16,\n",
    "    (2, 4): 0.005,\n",
    "    (2, 5): 0.017,\n",
    "    (2, 6): 0.017,\n",
    "    (2, 7): 0.002,\n",
    "    (2, 8): 0.05,\n",
    "    (2, 9): 0.04,\n",
    "    (2, 10): 0.04,\n",
    "    (3, 4): 0.005,\n",
    "    (3, 5): 0.017,\n",
    "    (3, 6): 0.015,\n",
    "    (3, 7): 0.002,\n",
    "    (3, 8): 0.04,\n",
    "    (3, 9): 0.035,\n",
    "    (3, 10): 0.035\n",
    "}"
   ]
  },
  {
   "cell_type": "code",
   "execution_count": 6,
   "metadata": {},
   "outputs": [],
   "source": [
    "# Create a list of origin-destination pairs based on their probabilities\n",
    "pairs = []\n",
    "for (origin, destination), probability in probabilities.items():\n",
    "    pairs.extend([(origin, destination)] * int(probability * 1000))\n",
    "\n",
    "# Generate shipment requests\n",
    "requests = []\n",
    "announce_time = 0\n",
    "week = 0\n",
    "\n",
    "for i in range(num_requests):\n",
    "    if i % req_per_week == 0 and i != 0:\n",
    "        week += 1\n",
    "        announce_time = ((week * 7 - 1) * 24)\n",
    "    request_id = f\"Request{i+1}\"\n",
    "    release_time = announce_time + random.randint(0, 96)\n",
    "    due_time = release_time + random.randint(48, 168)\n",
    "    volume = random.randint(5, 30)\n",
    "    origin, destination = random.choice(pairs)\n",
    "    mode = 0\n",
    "    requests.append((request_id, origin, destination, release_time, due_time, volume, mode, announce_time))\n",
    "\n",
    "# Export table of shipment requests\n",
    "df = pd.DataFrame(requests, columns=['Demand_ID', 'Origin', 'Destination', 'Release Time', 'Due Time', 'Volume', 'Mode', 'Announce Time'])\n",
    "df.to_csv(f\"Datasets\\shipment_requests_{num_requests}_{num_weeks}w.csv\", index=False)"
   ]
  }
 ],
 "metadata": {
  "kernelspec": {
   "display_name": "Python 3",
   "language": "python",
   "name": "python3"
  },
  "language_info": {
   "codemirror_mode": {
    "name": "ipython",
    "version": 3
   },
   "file_extension": ".py",
   "mimetype": "text/x-python",
   "name": "python",
   "nbconvert_exporter": "python",
   "pygments_lexer": "ipython3",
   "version": "3.10.6"
  }
 },
 "nbformat": 4,
 "nbformat_minor": 2
}
