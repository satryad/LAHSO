{
 "cells": [
  {
   "cell_type": "code",
   "execution_count": null,
   "metadata": {},
   "outputs": [
    {
     "ename": "",
     "evalue": "",
     "output_type": "error",
     "traceback": [
      "\u001b[1;31mRunning cells with '.venv (Python 3.10.6)' requires the ipykernel package.\n",
      "\u001b[1;31mRun the following command to install 'ipykernel' into the Python environment. \n",
      "\u001b[1;31mCommand: '\"d:/TU Delft/LAHSO Model/LAHSO/.venv/Scripts/python.exe\" -m pip install ipykernel -U --force-reinstall'"
     ]
    }
   ],
   "source": [
    "from lahso.config import Config\n",
    "import pickle\n",
    "\n",
    "config = Config()\n",
    "\n",
    "if not config.start_from_0:\n",
    "    with open(config.tc_path, \"rb\") as f:\n",
    "        total_cost_plot_read = pickle.load(f)\n",
    "    print(len(total_cost_plot_read))\n",
    "\n",
    "    with open(config.tr_path, \"rb\") as f:\n",
    "        total_reward_plot_read = pickle.load(f)\n",
    "    print(len(total_reward_plot_read))"
   ]
  }
 ],
 "metadata": {
  "kernelspec": {
   "display_name": ".venv",
   "language": "python",
   "name": "python3"
  },
  "language_info": {
   "name": "python",
   "version": "3.10.6"
  }
 },
 "nbformat": 4,
 "nbformat_minor": 2
}
